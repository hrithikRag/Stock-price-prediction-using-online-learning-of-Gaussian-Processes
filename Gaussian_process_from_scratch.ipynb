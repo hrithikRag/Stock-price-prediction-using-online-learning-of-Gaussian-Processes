{
 "cells": [
  {
   "cell_type": "code",
   "execution_count": 1,
   "id": "481088a8",
   "metadata": {},
   "outputs": [],
   "source": [
    "import numpy as np\n",
    "import pandas as pd\n",
    "import matplotlib.pyplot as plt\n",
    "import seaborn as sns\n",
    "import yfinance as yf\n",
    "import random as rand\n",
    "from sklearn.gaussian_process import GaussianProcessRegressor\n",
    "from sklearn.gaussian_process.kernels import RBF, ConstantKernel as C, RationalQuadratic as RQ, WhiteKernel as W, ExpSineSquared as ExpSS, DotProduct as DP, Matern as Mt\n",
    "from sklearn.model_selection import train_test_split\n",
    "from sklearn.metrics import mean_squared_error as MSE"
   ]
  },
  {
   "cell_type": "code",
   "execution_count": 2,
   "id": "ee9ea91a",
   "metadata": {},
   "outputs": [
    {
     "data": {
      "text/html": [
       "<div>\n",
       "<style scoped>\n",
       "    .dataframe tbody tr th:only-of-type {\n",
       "        vertical-align: middle;\n",
       "    }\n",
       "\n",
       "    .dataframe tbody tr th {\n",
       "        vertical-align: top;\n",
       "    }\n",
       "\n",
       "    .dataframe thead th {\n",
       "        text-align: right;\n",
       "    }\n",
       "</style>\n",
       "<table border=\"1\" class=\"dataframe\">\n",
       "  <thead>\n",
       "    <tr style=\"text-align: right;\">\n",
       "      <th></th>\n",
       "      <th>Date</th>\n",
       "      <th>Open</th>\n",
       "      <th>High</th>\n",
       "      <th>Low</th>\n",
       "      <th>Close</th>\n",
       "      <th>Adj Close</th>\n",
       "      <th>Volume</th>\n",
       "    </tr>\n",
       "  </thead>\n",
       "  <tbody>\n",
       "    <tr>\n",
       "      <th>0</th>\n",
       "      <td>2013-01-01</td>\n",
       "      <td>19.779285</td>\n",
       "      <td>19.821428</td>\n",
       "      <td>15.535714</td>\n",
       "      <td>16.267500</td>\n",
       "      <td>13.968525</td>\n",
       "      <td>13123423600</td>\n",
       "    </tr>\n",
       "    <tr>\n",
       "      <th>1</th>\n",
       "      <td>2013-02-01</td>\n",
       "      <td>16.396786</td>\n",
       "      <td>17.319286</td>\n",
       "      <td>15.630714</td>\n",
       "      <td>15.764286</td>\n",
       "      <td>13.536427</td>\n",
       "      <td>9344034000</td>\n",
       "    </tr>\n",
       "    <tr>\n",
       "      <th>2</th>\n",
       "      <td>2013-03-01</td>\n",
       "      <td>15.642857</td>\n",
       "      <td>16.783930</td>\n",
       "      <td>14.964286</td>\n",
       "      <td>15.809286</td>\n",
       "      <td>13.654184</td>\n",
       "      <td>9176876800</td>\n",
       "    </tr>\n",
       "    <tr>\n",
       "      <th>3</th>\n",
       "      <td>2013-04-01</td>\n",
       "      <td>15.782143</td>\n",
       "      <td>15.901786</td>\n",
       "      <td>13.753571</td>\n",
       "      <td>15.813571</td>\n",
       "      <td>13.657885</td>\n",
       "      <td>10963489600</td>\n",
       "    </tr>\n",
       "    <tr>\n",
       "      <th>4</th>\n",
       "      <td>2013-05-01</td>\n",
       "      <td>15.873571</td>\n",
       "      <td>16.633928</td>\n",
       "      <td>14.960714</td>\n",
       "      <td>16.061787</td>\n",
       "      <td>13.872264</td>\n",
       "      <td>9447530400</td>\n",
       "    </tr>\n",
       "    <tr>\n",
       "      <th>...</th>\n",
       "      <td>...</td>\n",
       "      <td>...</td>\n",
       "      <td>...</td>\n",
       "      <td>...</td>\n",
       "      <td>...</td>\n",
       "      <td>...</td>\n",
       "      <td>...</td>\n",
       "    </tr>\n",
       "    <tr>\n",
       "      <th>119</th>\n",
       "      <td>2022-12-01</td>\n",
       "      <td>148.210007</td>\n",
       "      <td>150.919998</td>\n",
       "      <td>125.870003</td>\n",
       "      <td>129.929993</td>\n",
       "      <td>129.731918</td>\n",
       "      <td>1675731200</td>\n",
       "    </tr>\n",
       "    <tr>\n",
       "      <th>120</th>\n",
       "      <td>2023-01-01</td>\n",
       "      <td>130.279999</td>\n",
       "      <td>147.229996</td>\n",
       "      <td>124.169998</td>\n",
       "      <td>144.289993</td>\n",
       "      <td>144.070023</td>\n",
       "      <td>1443652500</td>\n",
       "    </tr>\n",
       "    <tr>\n",
       "      <th>121</th>\n",
       "      <td>2023-02-01</td>\n",
       "      <td>143.970001</td>\n",
       "      <td>157.380005</td>\n",
       "      <td>141.320007</td>\n",
       "      <td>147.410004</td>\n",
       "      <td>147.185272</td>\n",
       "      <td>1307198900</td>\n",
       "    </tr>\n",
       "    <tr>\n",
       "      <th>122</th>\n",
       "      <td>2023-03-01</td>\n",
       "      <td>146.830002</td>\n",
       "      <td>159.399994</td>\n",
       "      <td>143.899994</td>\n",
       "      <td>159.279999</td>\n",
       "      <td>159.279999</td>\n",
       "      <td>1049543200</td>\n",
       "    </tr>\n",
       "    <tr>\n",
       "      <th>123</th>\n",
       "      <td>2023-03-21</td>\n",
       "      <td>157.320007</td>\n",
       "      <td>159.399994</td>\n",
       "      <td>156.539993</td>\n",
       "      <td>159.279999</td>\n",
       "      <td>159.279999</td>\n",
       "      <td>73938285</td>\n",
       "    </tr>\n",
       "  </tbody>\n",
       "</table>\n",
       "<p>124 rows × 7 columns</p>\n",
       "</div>"
      ],
      "text/plain": [
       "           Date        Open        High         Low       Close   Adj Close  \\\n",
       "0    2013-01-01   19.779285   19.821428   15.535714   16.267500   13.968525   \n",
       "1    2013-02-01   16.396786   17.319286   15.630714   15.764286   13.536427   \n",
       "2    2013-03-01   15.642857   16.783930   14.964286   15.809286   13.654184   \n",
       "3    2013-04-01   15.782143   15.901786   13.753571   15.813571   13.657885   \n",
       "4    2013-05-01   15.873571   16.633928   14.960714   16.061787   13.872264   \n",
       "..          ...         ...         ...         ...         ...         ...   \n",
       "119  2022-12-01  148.210007  150.919998  125.870003  129.929993  129.731918   \n",
       "120  2023-01-01  130.279999  147.229996  124.169998  144.289993  144.070023   \n",
       "121  2023-02-01  143.970001  157.380005  141.320007  147.410004  147.185272   \n",
       "122  2023-03-01  146.830002  159.399994  143.899994  159.279999  159.279999   \n",
       "123  2023-03-21  157.320007  159.399994  156.539993  159.279999  159.279999   \n",
       "\n",
       "          Volume  \n",
       "0    13123423600  \n",
       "1     9344034000  \n",
       "2     9176876800  \n",
       "3    10963489600  \n",
       "4     9447530400  \n",
       "..           ...  \n",
       "119   1675731200  \n",
       "120   1443652500  \n",
       "121   1307198900  \n",
       "122   1049543200  \n",
       "123     73938285  \n",
       "\n",
       "[124 rows x 7 columns]"
      ]
     },
     "execution_count": 2,
     "metadata": {},
     "output_type": "execute_result"
    }
   ],
   "source": [
    "df_monthly=pd.read_csv('AAPL_parent_monthly.csv')\n",
    "df_monthly"
   ]
  },
  {
   "cell_type": "code",
   "execution_count": 3,
   "id": "535c6467",
   "metadata": {},
   "outputs": [
    {
     "data": {
      "text/html": [
       "<div>\n",
       "<style scoped>\n",
       "    .dataframe tbody tr th:only-of-type {\n",
       "        vertical-align: middle;\n",
       "    }\n",
       "\n",
       "    .dataframe tbody tr th {\n",
       "        vertical-align: top;\n",
       "    }\n",
       "\n",
       "    .dataframe thead th {\n",
       "        text-align: right;\n",
       "    }\n",
       "</style>\n",
       "<table border=\"1\" class=\"dataframe\">\n",
       "  <thead>\n",
       "    <tr style=\"text-align: right;\">\n",
       "      <th></th>\n",
       "      <th>Month</th>\n",
       "      <th>Date</th>\n",
       "      <th>Open</th>\n",
       "      <th>High</th>\n",
       "      <th>Low</th>\n",
       "      <th>Close</th>\n",
       "      <th>Adj Close</th>\n",
       "      <th>Volume</th>\n",
       "      <th>Avg_price</th>\n",
       "    </tr>\n",
       "  </thead>\n",
       "  <tbody>\n",
       "    <tr>\n",
       "      <th>0</th>\n",
       "      <td>1</td>\n",
       "      <td>2013-01-01</td>\n",
       "      <td>19.779285</td>\n",
       "      <td>19.821428</td>\n",
       "      <td>15.535714</td>\n",
       "      <td>16.267500</td>\n",
       "      <td>13.968525</td>\n",
       "      <td>13123423600</td>\n",
       "      <td>17.850982</td>\n",
       "    </tr>\n",
       "    <tr>\n",
       "      <th>1</th>\n",
       "      <td>2</td>\n",
       "      <td>2013-02-01</td>\n",
       "      <td>16.396786</td>\n",
       "      <td>17.319286</td>\n",
       "      <td>15.630714</td>\n",
       "      <td>15.764286</td>\n",
       "      <td>13.536427</td>\n",
       "      <td>9344034000</td>\n",
       "      <td>16.277768</td>\n",
       "    </tr>\n",
       "    <tr>\n",
       "      <th>2</th>\n",
       "      <td>3</td>\n",
       "      <td>2013-03-01</td>\n",
       "      <td>15.642857</td>\n",
       "      <td>16.783930</td>\n",
       "      <td>14.964286</td>\n",
       "      <td>15.809286</td>\n",
       "      <td>13.654184</td>\n",
       "      <td>9176876800</td>\n",
       "      <td>15.800090</td>\n",
       "    </tr>\n",
       "    <tr>\n",
       "      <th>3</th>\n",
       "      <td>4</td>\n",
       "      <td>2013-04-01</td>\n",
       "      <td>15.782143</td>\n",
       "      <td>15.901786</td>\n",
       "      <td>13.753571</td>\n",
       "      <td>15.813571</td>\n",
       "      <td>13.657885</td>\n",
       "      <td>10963489600</td>\n",
       "      <td>15.312768</td>\n",
       "    </tr>\n",
       "    <tr>\n",
       "      <th>4</th>\n",
       "      <td>5</td>\n",
       "      <td>2013-05-01</td>\n",
       "      <td>15.873571</td>\n",
       "      <td>16.633928</td>\n",
       "      <td>14.960714</td>\n",
       "      <td>16.061787</td>\n",
       "      <td>13.872264</td>\n",
       "      <td>9447530400</td>\n",
       "      <td>15.882500</td>\n",
       "    </tr>\n",
       "    <tr>\n",
       "      <th>...</th>\n",
       "      <td>...</td>\n",
       "      <td>...</td>\n",
       "      <td>...</td>\n",
       "      <td>...</td>\n",
       "      <td>...</td>\n",
       "      <td>...</td>\n",
       "      <td>...</td>\n",
       "      <td>...</td>\n",
       "      <td>...</td>\n",
       "    </tr>\n",
       "    <tr>\n",
       "      <th>119</th>\n",
       "      <td>120</td>\n",
       "      <td>2022-12-01</td>\n",
       "      <td>148.210007</td>\n",
       "      <td>150.919998</td>\n",
       "      <td>125.870003</td>\n",
       "      <td>129.929993</td>\n",
       "      <td>129.731918</td>\n",
       "      <td>1675731200</td>\n",
       "      <td>138.732500</td>\n",
       "    </tr>\n",
       "    <tr>\n",
       "      <th>120</th>\n",
       "      <td>121</td>\n",
       "      <td>2023-01-01</td>\n",
       "      <td>130.279999</td>\n",
       "      <td>147.229996</td>\n",
       "      <td>124.169998</td>\n",
       "      <td>144.289993</td>\n",
       "      <td>144.070023</td>\n",
       "      <td>1443652500</td>\n",
       "      <td>136.492497</td>\n",
       "    </tr>\n",
       "    <tr>\n",
       "      <th>121</th>\n",
       "      <td>122</td>\n",
       "      <td>2023-02-01</td>\n",
       "      <td>143.970001</td>\n",
       "      <td>157.380005</td>\n",
       "      <td>141.320007</td>\n",
       "      <td>147.410004</td>\n",
       "      <td>147.185272</td>\n",
       "      <td>1307198900</td>\n",
       "      <td>147.520004</td>\n",
       "    </tr>\n",
       "    <tr>\n",
       "      <th>122</th>\n",
       "      <td>123</td>\n",
       "      <td>2023-03-01</td>\n",
       "      <td>146.830002</td>\n",
       "      <td>159.399994</td>\n",
       "      <td>143.899994</td>\n",
       "      <td>159.279999</td>\n",
       "      <td>159.279999</td>\n",
       "      <td>1049543200</td>\n",
       "      <td>152.352497</td>\n",
       "    </tr>\n",
       "    <tr>\n",
       "      <th>123</th>\n",
       "      <td>124</td>\n",
       "      <td>2023-03-21</td>\n",
       "      <td>157.320007</td>\n",
       "      <td>159.399994</td>\n",
       "      <td>156.539993</td>\n",
       "      <td>159.279999</td>\n",
       "      <td>159.279999</td>\n",
       "      <td>73938285</td>\n",
       "      <td>158.134998</td>\n",
       "    </tr>\n",
       "  </tbody>\n",
       "</table>\n",
       "<p>124 rows × 9 columns</p>\n",
       "</div>"
      ],
      "text/plain": [
       "     Month        Date        Open        High         Low       Close  \\\n",
       "0        1  2013-01-01   19.779285   19.821428   15.535714   16.267500   \n",
       "1        2  2013-02-01   16.396786   17.319286   15.630714   15.764286   \n",
       "2        3  2013-03-01   15.642857   16.783930   14.964286   15.809286   \n",
       "3        4  2013-04-01   15.782143   15.901786   13.753571   15.813571   \n",
       "4        5  2013-05-01   15.873571   16.633928   14.960714   16.061787   \n",
       "..     ...         ...         ...         ...         ...         ...   \n",
       "119    120  2022-12-01  148.210007  150.919998  125.870003  129.929993   \n",
       "120    121  2023-01-01  130.279999  147.229996  124.169998  144.289993   \n",
       "121    122  2023-02-01  143.970001  157.380005  141.320007  147.410004   \n",
       "122    123  2023-03-01  146.830002  159.399994  143.899994  159.279999   \n",
       "123    124  2023-03-21  157.320007  159.399994  156.539993  159.279999   \n",
       "\n",
       "      Adj Close       Volume   Avg_price  \n",
       "0     13.968525  13123423600   17.850982  \n",
       "1     13.536427   9344034000   16.277768  \n",
       "2     13.654184   9176876800   15.800090  \n",
       "3     13.657885  10963489600   15.312768  \n",
       "4     13.872264   9447530400   15.882500  \n",
       "..          ...          ...         ...  \n",
       "119  129.731918   1675731200  138.732500  \n",
       "120  144.070023   1443652500  136.492497  \n",
       "121  147.185272   1307198900  147.520004  \n",
       "122  159.279999   1049543200  152.352497  \n",
       "123  159.279999     73938285  158.134998  \n",
       "\n",
       "[124 rows x 9 columns]"
      ]
     },
     "execution_count": 3,
     "metadata": {},
     "output_type": "execute_result"
    }
   ],
   "source": [
    "df_monthly = df_monthly.assign(Avg_price=lambda x: ((x['Open'] + x['High'] + x['Low'] + x['Close'])/4))\n",
    "start=1\n",
    "df_monthly.insert(0, 'Month', range(start, start + df_monthly.shape[0]))\n",
    "df_monthly"
   ]
  },
  {
   "cell_type": "code",
   "execution_count": 4,
   "id": "96d1a309",
   "metadata": {},
   "outputs": [
    {
     "data": {
      "image/png": "[encoded data removed]",
      "text/plain": [
       "<Figure size 2160x720 with 1 Axes>"
      ]
     },
     "metadata": {
      "needs_background": "light"
     },
     "output_type": "display_data"
    }
   ],
   "source": [
    "plt.figure(figsize=(30,10))\n",
    "sns.lineplot(x=\"Month\", y=\"Avg_price\", data=df_monthly)\n",
    "plt.show()"
   ]
  },
  {
   "cell_type": "code",
   "execution_count": 5,
   "id": "25bcba9a",
   "metadata": {},
   "outputs": [
    {
     "data": {
      "text/plain": [
       "array([[1, '2013-01-01', 19.779285, ..., 13.968525, 13123423600,\n",
       "        17.85098175],\n",
       "       [2, '2013-02-01', 16.396786, ..., 13.536427, 9344034000,\n",
       "        16.277768],\n",
       "       [3, '2013-03-01', 15.642857, ..., 13.654184, 9176876800,\n",
       "        15.800089750000001],\n",
       "       ...,\n",
       "       [122, '2023-02-01', 143.970001, ..., 147.185272, 1307198900,\n",
       "        147.52000425],\n",
       "       [123, '2023-03-01', 146.830002, ..., 159.279999, 1049543200,\n",
       "        152.35249725],\n",
       "       [124, '2023-03-21', 157.320007, ..., 159.279999, 73938285,\n",
       "        158.13499825]], dtype=object)"
      ]
     },
     "execution_count": 5,
     "metadata": {},
     "output_type": "execute_result"
    }
   ],
   "source": [
    "df_monthly_array=np.asarray(df_monthly)\n",
    "df_monthly_array"
   ]
  },
  {
   "cell_type": "code",
   "execution_count": 6,
   "id": "c16dba7c",
   "metadata": {},
   "outputs": [
    {
     "name": "stdout",
     "output_type": "stream",
     "text": [
      "[121 122]\n"
     ]
    }
   ],
   "source": [
    "X_train=df_monthly_array[120:122,0]\n",
    "X_whole=df_monthly_array[100:124,0]\n",
    "print(X_train)"
   ]
  },
  {
   "cell_type": "code",
   "execution_count": 7,
   "id": "bdb2980f",
   "metadata": {},
   "outputs": [
    {
     "name": "stdout",
     "output_type": "stream",
     "text": [
      "(2,)\n"
     ]
    }
   ],
   "source": [
    "Y_train=df_monthly_array[120:122,8]\n",
    "Y_whole=df_monthly_array[100:124,8]\n",
    "print(Y_train.shape)"
   ]
  },
  {
   "cell_type": "code",
   "execution_count": 8,
   "id": "061fed75",
   "metadata": {},
   "outputs": [
    {
     "data": {
      "text/plain": [
       "'X_test=np.linspace(122,124,20)\\nY_test=df_monthly_array[122:124,8]\\nprint(X_test)\\nprint(Y_test)'"
      ]
     },
     "execution_count": 8,
     "metadata": {},
     "output_type": "execute_result"
    }
   ],
   "source": [
    "'''X_test=np.linspace(122,124,20)\n",
    "Y_test=df_monthly_array[122:124,8]\n",
    "print(X_test)\n",
    "print(Y_test)'''"
   ]
  },
  {
   "cell_type": "code",
   "execution_count": 9,
   "id": "b19acae9",
   "metadata": {},
   "outputs": [
    {
     "data": {
      "text/plain": [
       "'X_test_modified=[]\\nfor i in X_test:\\n    X_test_modified.append(round(float(i), 1))\\nprint(X_test_modified)\\nfor i in X_train:\\n    if i in X_test_modified:\\n        X_test_modified.remove(i)\\nX_test_modified=np.array(X_test_modified)\\nprint(X_test_modified.shape)\\nprint(X_test_modified)'"
      ]
     },
     "execution_count": 9,
     "metadata": {},
     "output_type": "execute_result"
    }
   ],
   "source": [
    "'''X_test_modified=[]\n",
    "for i in X_test:\n",
    "    X_test_modified.append(round(float(i), 1))\n",
    "print(X_test_modified)\n",
    "for i in X_train:\n",
    "    if i in X_test_modified:\n",
    "        X_test_modified.remove(i)\n",
    "X_test_modified=np.array(X_test_modified)\n",
    "print(X_test_modified.shape)\n",
    "print(X_test_modified)'''"
   ]
  },
  {
   "cell_type": "code",
   "execution_count": 10,
   "id": "8017954d",
   "metadata": {},
   "outputs": [
    {
     "name": "stdout",
     "output_type": "stream",
     "text": [
      "[123 124]\n"
     ]
    }
   ],
   "source": [
    "X_test=df_monthly_array[122:124,0]\n",
    "print(X_test)"
   ]
  },
  {
   "cell_type": "markdown",
   "id": "aa899138",
   "metadata": {},
   "source": [
    "# GPR Basic Prototype"
   ]
  },
  {
   "cell_type": "code",
   "execution_count": 11,
   "id": "44f5808d",
   "metadata": {},
   "outputs": [
    {
     "data": {
      "text/plain": [
       "0.36787944117144233"
      ]
     },
     "execution_count": 11,
     "metadata": {},
     "output_type": "execute_result"
    }
   ],
   "source": [
    "def kernel_RBF(length_scale, x_1, x_2):\n",
    "    return np.exp((x_1-x_2)**2/(-length_scale))\n",
    "kernel_RBF(4,2,4)"
   ]
  },
  {
   "cell_type": "code",
   "execution_count": 12,
   "id": "1540b76b",
   "metadata": {},
   "outputs": [
    {
     "name": "stdout",
     "output_type": "stream",
     "text": [
      "[[1.0, 0.9900498337491681], [0.9900498337491681, 1.0]]\n"
     ]
    }
   ],
   "source": [
    "def GPR_fit(X_train):\n",
    "    Cov_mat=[]\n",
    "    n=len(X_train)\n",
    "    for i in range(n):\n",
    "        temp=[]\n",
    "        for j in range(n):\n",
    "            temp.append(kernel_RBF(100,X_train[i],X_train[j]))\n",
    "        Cov_mat.append(temp)\n",
    "    return Cov_mat\n",
    "Cov_mat=GPR_fit(X_train)\n",
    "print((Cov_mat))"
   ]
  },
  {
   "cell_type": "code",
   "execution_count": 15,
   "id": "e604ff97",
   "metadata": {},
   "outputs": [
    {
     "name": "stdout",
     "output_type": "stream",
     "text": [
      "[[0.9607894391523232, 0.9900498337491681], [0.9139311852712282, 0.9607894391523232]]\n",
      "[[ 50.50166666 -49.99916668]\n",
      " [-49.99916668  50.50166666]]\n",
      "[155.4225209302309 159.7424583916578]\n",
      "[0.0007764211251751751, 0.006627823225274998]\n"
     ]
    }
   ],
   "source": [
    "def GPR_predict(Cov_mat, X_train, Y_train, X_test):\n",
    "    K_1=[]\n",
    "    for i in range(len(X_test)):\n",
    "        temp=[]\n",
    "        for j in range(len(X_train)):\n",
    "            temp.append(kernel_RBF(100,X_test[i],X_train[j]))\n",
    "        K_1.append(temp)\n",
    "    print(K_1)\n",
    "    INV_Cov_mat=np.linalg.inv(Cov_mat)\n",
    "    print(INV_Cov_mat)\n",
    "    K_2=np.dot(np.array(K_1),INV_Cov_mat)\n",
    "    Y_pred=np.dot(K_2,Y_train)\n",
    "    K_xx=[]\n",
    "    sigma=[]\n",
    "    for i in X_test:\n",
    "        K_xx.append(kernel_RBF(100,i,i))\n",
    "    for i in range(len(K_xx)):\n",
    "        sigma.append(K_xx[i]-np.dot(np.dot(np.array(K_1[i]),INV_Cov_mat),np.array(K_1[i]).T))\n",
    "    \n",
    "    return Y_pred,sigma\n",
    "Y_pred,sigma=GPR_predict(Cov_mat, X_train, Y_train, X_test)\n",
    "print(Y_pred)\n",
    "print(sigma)"
   ]
  },
  {
   "cell_type": "code",
   "execution_count": null,
   "id": "e6f3e7b1",
   "metadata": {},
   "outputs": [],
   "source": []
  }
 ],
 "metadata": {
  "kernelspec": {
   "display_name": "Python 3 (ipykernel)",
   "language": "python",
   "name": "python3"
  },
  "language_info": {
   "codemirror_mode": {
    "name": "ipython",
    "version": 3
   },
   "file_extension": ".py",
   "mimetype": "text/x-python",
   "name": "python",
   "nbconvert_exporter": "python",
   "pygments_lexer": "ipython3",
   "version": "3.9.12"
  }
 },
 "nbformat": 4,
 "nbformat_minor": 5
}
